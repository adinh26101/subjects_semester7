{
    "cells": [
        {
            "cell_type": "markdown",
            "id": "5e303550",
            "metadata": {},
            "source": [
                "# Phân tích dữ liệu Bayesian 2022. LAB 3.\n",
                "## Bài toán liên hợp, khoảng tin cậy."
            ]
        },
        {
            "cell_type": "markdown",
            "id": "2818127d",
            "metadata": {},
            "source": [
                "## 1. Ôn tập về phân phối Beta và Gamma."
            ]
        },
        {
            "cell_type": "markdown",
            "id": "f7aae500",
            "metadata": {},
            "source": [
                "Chú ý rằng phân phối Beta có hai tham số $a,b$ dương và $0 \\le x \\le 1.$ Còn phân phối Gamma thì có hai tham số $u,v$ và $x > 0.$ Hãy tham khảo các code vẽ đồ thị bên dưới. Tham khảo thêm tại đây:\n",
                "\n",
                "https://docs.scipy.org/doc/scipy/reference/generated/scipy.stats.beta.html\n",
                "\n",
                "https://docs.scipy.org/doc/scipy/reference/generated/scipy.stats.gamma.html"
            ]
        },
        {
            "cell_type": "code",
            "execution_count": 1,
            "id": "d6a62705",
            "metadata": {},
            "outputs": [
                {
                    "data": {
                        "image/png": "[encoded data removed]",
                        "text/plain": [
                            "<Figure size 432x288 with 1 Axes>"
                        ]
                    },
                    "metadata": {
                        "needs_background": "light"
                    },
                    "output_type": "display_data"
                }
            ],
            "source": [
                "#Hãy đọc hiểu đoạn code sau và thay thế các cặp số a, b để thu được các đồ thị mới\n",
                "from scipy.stats import beta\n",
                "import matplotlib.pyplot as plt\n",
                "import numpy as np\n",
                "a, b = 2, 12\n",
                "x = np.linspace (0, 1, 100)\n",
                "y = beta.pdf(x,a,b)\n",
                "plt.plot(x,y, 'r')\n",
                "plt.show()"
            ]
        },
        {
            "cell_type": "code",
            "execution_count": 2,
            "id": "78cad1b8",
            "metadata": {},
            "outputs": [
                {
                    "data": {
                        "image/png": "[encoded data removed]",
                        "text/plain": [
                            "<Figure size 432x288 with 1 Axes>"
                        ]
                    },
                    "metadata": {
                        "needs_background": "light"
                    },
                    "output_type": "display_data"
                }
            ],
            "source": [
                "#Hãy đọc hiểu đoạn code sau và thay thế các cặp số u, v để thu được các đồ thị mới\n",
                "import numpy as np\n",
                "from scipy.stats import gamma\n",
                "import matplotlib.pyplot as plt\n",
                "u, v = 3, 6\n",
                "x = np.linspace (0, 40, 100) \n",
                "y = gamma.pdf(x, u, 1/v)\n",
                "plt.plot(x, y, 'g')\n",
                "plt.show()"
            ]
        },
        {
            "cell_type": "code",
            "execution_count": null,
            "id": "b82036b4",
            "metadata": {},
            "outputs": [],
            "source": [
                "#Giải thích ý nghĩa đoạn code sau:\n",
                "a, b = 5, 3\n",
                "r = beta(a, b)\n",
                "r.mean(), r.var()"
            ]
        },
        {
            "cell_type": "code",
            "execution_count": null,
            "id": "30af424b",
            "metadata": {},
            "outputs": [],
            "source": [
                "#Giải thích ý nghĩa đoạn code sau:\n",
                "u, v = 5, 3\n",
                "r = gamma.rvs(u, scale = 1/v, size=1000)\n",
                "r.mean(), r.std()"
            ]
        },
        {
            "cell_type": "markdown",
            "id": "41d6a7ab",
            "metadata": {},
            "source": [
                "**Bài 1.** Hãy tìm hiểu liên hệ giữa phân phối mũ (Exponential distribution) và phân phối Gamma."
            ]
        },
        {
            "cell_type": "markdown",
            "id": "3dd1eb43",
            "metadata": {},
            "source": [
                "## 2. Các bài toán liên hợp."
            ]
        },
        {
            "cell_type": "markdown",
            "id": "0a1bd093",
            "metadata": {},
            "source": [
                "**Bài 2.** Số lần rớt mạng ở IUH hàng tuần không được biết chính xác, nhưng theo kinh nghiệm với các nơi khác cho thấy nó có trung bình là $6$ và độ lệch chuẩn là $\\sqrt{3}$ với phân phối Gamma. Quan sát thấy trong $4$ tuần đầu có các lần rớt mạng là $7,4,3,5$ với phân phối Poisson.\n",
                "- 1. Phân tích Bayesian cho phân phối hậu nghiệm cho số lần rớt mạng sau tuần $1$ và sau tuần $4$.\n",
                "- 2. Ứng với phân phối của tuần thứ $4$, hãy tính xác suất để số lần rớt mạng nhỏ hơn $7.$\n",
                "- 3. Vẽ đồ thị cho các phân phối trên cùng một hệ trục."
            ]
        },
        {
            "cell_type": "markdown",
            "id": "6c979aef",
            "metadata": {},
            "source": [
                "**Bài 3.** Một phương pháp chữa bệnh truyền thống có tỷ lệ thành công là $70 \\%.$ Có một phương pháp mới mà bác sĩ tin rằng nó sẽ có tỷ lệ thành công đạt kỳ vọng $0.8$ và độ lệch chuẩn $0.1206$ có phân phối Beta. Sau khi tiến hành thử nghiệm lâm sàng trên $100$ bệnh nhân thì thấy có $82$ người khỏi bệnh. \n",
                "- 1. Hãy so sánh khả năng mà phương pháp mới tốt hơn phương pháp truyền thống, trước và sau khi tiến hành thử nghiệm.\n",
                "- 2. Hãy tính độ rủi ro hậu nghiệm.\n",
                "- 3. Vẽ đồ thị cho các phân phối trên cùng một hệ trục."
            ]
        },
        {
            "cell_type": "markdown",
            "id": "66acdf3c",
            "metadata": {},
            "source": [
                "**Bài 4.** Xét một phân phối tiên nghiệm $X \\sim N(16,0.25).$ Giả sử mẫu ngẫu nhiên gồm $10$ quan sát bao gồm các giá trị có phân phối chuẩn\n",
                "$$16.11, 17.37, 16.35, 15.16, 18.82, 18.12, 15.82, 16.34, 16.64, 15.0.$$\n",
                "Hãy xác định phân phối hậu nghiệm."
            ]
        },
        {
            "cell_type": "markdown",
            "id": "52b00778",
            "metadata": {},
            "source": [
                "## 3. Khoảng tin cậy (tiếp theo)"
            ]
        },
        {
            "cell_type": "markdown",
            "id": "bf35efdb",
            "metadata": {},
            "source": [
                "**Bài 5.** Một nghiên cứu về tỷ lệ sinh viên của một trường đại học có thời gian ngủ ít nhất $6$ giờ mỗi đêm. Khảo sát một mẫu ngẫu nhiên gồm $27$ sinh viên từ trường đại học đó thì có $11$ sinh viên cho biết họ ngủ ít nhất $6$ giờ mỗi đêm. Gọi $X$ là tham số tổng thể đang được quan tâm. Giả sử phân phối tiên nghiệm của $X$ là Beta $(3.3,7.2)$. Hãy xây dựng một tập tin cậy $90\\%$ cho $X$."
            ]
        },
        {
            "cell_type": "markdown",
            "id": "eea0a5e9",
            "metadata": {},
            "source": [
                "**Bài 6.** Một công ty điện thoại mới dự đoán sẽ xử lý cỡ $1000$ với phân phối mũ. Trong $10$ giờ hoạt động được chọn ngẫu nhiên, nó đã xử lý $7265$ cuộc gọi.\n",
                "- 1) Ước lượng ban đầu về tần suất của các cuộc gọi điện thoại.\n",
                "- 2) Xây dựng một tập tin cậy $95\\%$ , biết rằng số cuộc gọi điện thoại được xử lý mỗi giờ tuân theo quy luật Poisson."
            ]
        }
    ],
    "metadata": {
        "kernelspec": {
            "display_name": "Python 3.10.6 64-bit",
            "language": "python",
            "name": "python3"
        },
        "language_info": {
            "codemirror_mode": {
                "name": "ipython",
                "version": 3
            },
            "file_extension": ".py",
            "mimetype": "text/x-python",
            "name": "python",
            "nbconvert_exporter": "python",
            "pygments_lexer": "ipython3",
            "version": "3.10.6"
        },
        "vscode": {
            "interpreter": {
                "hash": "b0fa6594d8f4cbf19f97940f81e996739fb7646882a419484c72d19e05852a7e"
            }
        }
    },
    "nbformat": 4,
    "nbformat_minor": 5
}
